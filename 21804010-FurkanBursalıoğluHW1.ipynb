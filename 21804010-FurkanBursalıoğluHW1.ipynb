{
 "cells": [
  {
   "cell_type": "code",
   "execution_count": null,
   "metadata": {},
   "outputs": [],
   "source": [
    "a = int(input(\"- x^2 nin katsayısını girin:\"))\n",
    "b = int(input(\"- x in katsayısını girin:\"))\n",
    "c = int(input(\"- Sabit sayıyı girin:\"))\n",
    "\n",
    "\n",
    "discriminant=(b**2 - 4*a*c)\n",
    "\n",
    "print('- Diskriminant:', discriminant)\n",
    "\n",
    "kokbir=(-(b)-(discriminant**0.5))/2*a\n",
    "kokiki=(-(b)+(discriminant**0.5))/2*a\n",
    "\n",
    "print('- Birinci kök:', kokbir)\n",
    "\n",
    "print('- İkinci kök:', kokiki)\n"
   ]
  },
  {
   "cell_type": "code",
   "execution_count": null,
   "metadata": {},
   "outputs": [],
   "source": []
  },
  {
   "cell_type": "code",
   "execution_count": null,
   "metadata": {},
   "outputs": [],
   "source": []
  }
 ],
 "metadata": {
  "kernelspec": {
   "display_name": "Python 3",
   "language": "python",
   "name": "python3"
  },
  "language_info": {
   "codemirror_mode": {
    "name": "ipython",
    "version": 3
   },
   "file_extension": ".py",
   "mimetype": "text/x-python",
   "name": "python",
   "nbconvert_exporter": "python",
   "pygments_lexer": "ipython3",
   "version": "3.6.5"
  }
 },
 "nbformat": 4,
 "nbformat_minor": 2
}
